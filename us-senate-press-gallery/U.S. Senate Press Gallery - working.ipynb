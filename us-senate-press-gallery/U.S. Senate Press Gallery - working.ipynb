{
 "cells": [
  {
   "cell_type": "markdown",
   "id": "05412996",
   "metadata": {},
   "source": [
    "# U.S. Senate press gallery\n",
    "\n",
    "The goal: [Scrape the list of journalists accredited to cover the U.S. Senate](https://www.dailypress.senate.gov/membership/membership-lists/) into a CSV. (A little spelunking in the source code will reveal a table ready for extraction.)"
   ]
  },
  {
   "cell_type": "code",
   "execution_count": 1,
   "id": "4c67ce4d",
   "metadata": {},
   "outputs": [],
   "source": [
    "# import libraries\n",
    "import csv\n",
    "\n",
    "import requests\n",
    "from bs4 import BeautifulSoup"
   ]
  },
  {
   "cell_type": "code",
   "execution_count": 2,
   "id": "99adeb32",
   "metadata": {},
   "outputs": [],
   "source": [
    "URL = 'https://www.dailypress.senate.gov/membership/membership-lists/'\n",
    "\n",
    "CSV_FILE = 'us-senate-press-gallery.csv'\n",
    "\n",
    "headers = [\n",
    "    'name_first',\n",
    "    'name_last',\n",
    "    'newsroom'\n",
    "]"
   ]
  },
  {
   "cell_type": "code",
   "execution_count": null,
   "id": "a9744eb7",
   "metadata": {},
   "outputs": [],
   "source": [
    "# make the request\n"
   ]
  },
  {
   "cell_type": "code",
   "execution_count": null,
   "id": "8e710003",
   "metadata": {},
   "outputs": [],
   "source": [
    "# turn the HTML into soup\n",
    "\n",
    "\n",
    "# find the table\n",
    "\n",
    "\n",
    "# grab a list of table rows (minus the header)\n"
   ]
  },
  {
   "cell_type": "code",
   "execution_count": null,
   "id": "e65af642",
   "metadata": {},
   "outputs": [],
   "source": [
    "# start a tracking list for the scraped data\n",
    "\n",
    "\n",
    "# loop over the rows\n",
    "\n",
    "\n",
    "    # find the cells in this row\n",
    "\n",
    "    \n",
    "    # extract each piece of data from the list\n",
    "    \n",
    "    # first name is the first ([0]) list item\n",
    "\n",
    "    \n",
    "    # last name is second ([1])\n",
    "\n",
    "\n",
    "    # affiliation is third ([2])\n",
    "\n",
    "\n",
    "    # append data to tracking list\n"
   ]
  },
  {
   "cell_type": "code",
   "execution_count": null,
   "id": "52ad6285-f7f5-49cf-bacb-38098735940c",
   "metadata": {},
   "outputs": [],
   "source": [
    "# write data to file"
   ]
  }
 ],
 "metadata": {
  "kernelspec": {
   "display_name": "Python 3 (ipykernel)",
   "language": "python",
   "name": "python3"
  },
  "language_info": {
   "codemirror_mode": {
    "name": "ipython",
    "version": 3
   },
   "file_extension": ".py",
   "mimetype": "text/x-python",
   "name": "python",
   "nbconvert_exporter": "python",
   "pygments_lexer": "ipython3",
   "version": "3.12.9"
  }
 },
 "nbformat": 4,
 "nbformat_minor": 5
}
