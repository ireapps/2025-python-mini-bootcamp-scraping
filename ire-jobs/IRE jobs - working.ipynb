{
 "cells": [
  {
   "cell_type": "markdown",
   "id": "77a36c20-14c7-49d5-af03-36bd1e6b107f",
   "metadata": {},
   "source": [
    "# IRE jobs\n",
    "\n",
    "The goal: Scrape [the list of job postings on IRE's website](https://www.ire.org/find-a-job) into a CSV."
   ]
  },
  {
   "cell_type": "code",
   "execution_count": 2,
   "id": "e24752c8-ec65-4256-a51d-c96ac27bb620",
   "metadata": {},
   "outputs": [],
   "source": [
    "import csv\n",
    "\n",
    "import requests\n",
    "from bs4 import BeautifulSoup"
   ]
  },
  {
   "cell_type": "code",
   "execution_count": 3,
   "id": "9b1de202-7442-41e5-b51d-851c38ed2c2f",
   "metadata": {},
   "outputs": [],
   "source": [
    "# set up a dictionary to change the headers of the outgoing request to\n",
    "# pretend to be a Firefox browser\n",
    "# https://requests.readthedocs.io/en/latest/user/quickstart/#custom-headers\n",
    "# https://useragents.io\n",
    "new_headers = {\n",
    "    'User-Agent': 'Mozilla/5.0 (Macintosh; Intel Mac OS X 10.15; rv:109.0) Gecko/20100101 Firefox/119.0'\n",
    "}"
   ]
  },
  {
   "cell_type": "code",
   "execution_count": 4,
   "id": "3b651407-240b-4558-a00a-87b0e31c58ec",
   "metadata": {},
   "outputs": [],
   "source": [
    "# using the new headers, fetch the page\n",
    "req = requests.get(\n",
    "    'https://www.ire.org/find-a-job',\n",
    "    headers=new_headers\n",
    ")\n",
    "\n",
    "# and check for HTTP errors\n",
    "req.raise_for_status()"
   ]
  },
  {
   "cell_type": "code",
   "execution_count": 6,
   "id": "11674187-af0d-43f3-ab8b-abb24bc94eb4",
   "metadata": {},
   "outputs": [],
   "source": [
    "# turn the HTML into soup\n"
   ]
  },
  {
   "cell_type": "code",
   "execution_count": 8,
   "id": "24f1bff1-978f-4685-8ff8-446a0dad5e47",
   "metadata": {},
   "outputs": [],
   "source": [
    "# find the div with the ID 'ire-jobs'\n"
   ]
  },
  {
   "cell_type": "code",
   "execution_count": 10,
   "id": "4f7e2491-6c67-4d62-9e32-58f90c4fec63",
   "metadata": {},
   "outputs": [],
   "source": [
    "# look for the links in each row -- the anchor or `a` tag -- and use it\n",
    "# as the starting point for grabbing content in each row"
   ]
  },
  {
   "cell_type": "code",
   "execution_count": null,
   "id": "17da64b5-0f2f-43a0-acf6-9b72ef5e3fb9",
   "metadata": {},
   "outputs": [],
   "source": [
    "# start an empty list to hold the parsed data\n",
    "\n",
    "\n",
    "# use a for loop to iterate over each link\n",
    "\n",
    "    # first piece of data to grab is the actual URL, which is the\n",
    "    # `href` attribute of the `a` tag\n",
    "\n",
    "\n",
    "    # next is the text within the link --\n",
    "    # calling .strip() as a precaution against leading/trailing whitespace\n",
    "\n",
    "\n",
    "    # to get the name of the newsroom and other pieces of data, we'll want to start\n",
    "    # one level up, so use `.parent` to get the parent element\n",
    "\n",
    "\n",
    "    # the newsroom is in the text of the next sibling element\n",
    "\n",
    "\n",
    "    # the location is two siblings away\n",
    "\n",
    "\n",
    "    # date posted is three siblings away\n",
    "\n",
    "\n",
    "    # 🤌 a shortcut method for accomplishing the same thing in one line using\n",
    "    # the .next_siblings generator, a list comprehension and multiple assignment:\n",
    "    # newsroom, location, date_posted = [x.text.strip() for x in link.parent.next_siblings]\n",
    "    # https://www.crummy.com/software/BeautifulSoup/bs4/doc/#next-siblings-and-previous-siblings\n",
    "    \n",
    "    # and then append this row of data to the tracking list\n"
   ]
  },
  {
   "cell_type": "code",
   "execution_count": null,
   "id": "a9769b57-e859-4112-aaa8-81e2040e9e36",
   "metadata": {},
   "outputs": [],
   "source": [
    "# finally, write the results to file\n",
    "# https://docs.python.org/3/library/csv.html\n",
    "\n",
    "# get the CSV headers from the first scraped record\n",
    "\n",
    "# write to file"
   ]
  }
 ],
 "metadata": {
  "kernelspec": {
   "display_name": "Python 3 (ipykernel)",
   "language": "python",
   "name": "python3"
  },
  "language_info": {
   "codemirror_mode": {
    "name": "ipython",
    "version": 3
   },
   "file_extension": ".py",
   "mimetype": "text/x-python",
   "name": "python",
   "nbconvert_exporter": "python",
   "pygments_lexer": "ipython3",
   "version": "3.12.9"
  }
 },
 "nbformat": 4,
 "nbformat_minor": 5
}
