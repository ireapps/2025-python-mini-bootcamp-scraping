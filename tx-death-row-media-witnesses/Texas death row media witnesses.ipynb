{
 "cells": [
  {
   "cell_type": "code",
   "execution_count": null,
   "id": "3020801e-7d9d-4fcc-bef4-8698bcc4dfd1",
   "metadata": {},
   "outputs": [],
   "source": [
    "import csv\n",
    "from datetime import datetime\n",
    "from urllib.parse import urljoin\n",
    "\n",
    "import requests\n",
    "from requests.packages.urllib3.exceptions import InsecureRequestWarning\n",
    "from bs4 import BeautifulSoup\n",
    "\n",
    "from fixes import journo_fixes"
   ]
  },
  {
   "cell_type": "code",
   "execution_count": null,
   "id": "4b655d59-2aba-4175-8b9c-ef62342ead6c",
   "metadata": {},
   "outputs": [],
   "source": [
    "# come on texas fix your https\n",
    "requests.packages.urllib3.disable_warnings(InsecureRequestWarning)\n",
    "\n",
    "URL = 'http://www.tdcj.state.tx.us/death_row/dr_media_witness_list.html'\n",
    "CSV_FILE = 'tx-death-row-media-list.csv'"
   ]
  },
  {
   "cell_type": "code",
   "execution_count": null,
   "id": "9f9f842d-cb52-4eb4-96ea-c2c88b303b60",
   "metadata": {},
   "outputs": [],
   "source": [
    "r = requests.get(URL, verify=False)\n",
    "r.raise_for_status()"
   ]
  },
  {
   "cell_type": "code",
   "execution_count": null,
   "id": "dcbebda8-ffb1-45c4-b55c-a3b74a400ee4",
   "metadata": {
    "scrolled": true
   },
   "outputs": [],
   "source": [
    "data = []\n",
    "\n",
    "# find the table\n",
    "table = BeautifulSoup(r.text, 'html.parser').find('table')\n",
    "\n",
    "# get the rows (minus the headers)\n",
    "rows = table.find_all('tr')[1:]\n",
    "\n",
    "# loop over the rows\n",
    "for row in rows:\n",
    "\n",
    "    # get all the TD tags\n",
    "    cells = row.find_all('td')\n",
    "\n",
    "    execution_no = cells[0].text.strip()\n",
    "    url = ''\n",
    "\n",
    "    # see if there's a link\n",
    "    link = row.find('a').get('href')\n",
    "    if link:\n",
    "\n",
    "        # build a fully qualified URL\n",
    "        # https://docs.python.org/3/library/urllib.parse.html#urllib.parse.urljoin\n",
    "        url = urljoin(\n",
    "            URL,\n",
    "            link\n",
    "        )\n",
    "\n",
    "    inmate_last = cells[2].text.strip()\n",
    "    inmate_rest = cells[3].text.strip()\n",
    "    inmate_no = cells[4].text.strip()\n",
    "\n",
    "    # validate the execution date and format YYYY-MM-DD\n",
    "    execution_date = datetime.strptime(\n",
    "        cells[5].text.strip(),\n",
    "        '%m/%d/%Y'\n",
    "    ).date().isoformat()\n",
    "\n",
    "    # grab the list of media (semicolon-delimited)\n",
    "    media_list = [x.strip() for x in cells[6].string.split(';') if x.strip()]  # noqa\n",
    "\n",
    "    for journo in media_list:\n",
    "\n",
    "        # see if there's a fix listed\n",
    "        journo = journo_fixes.get(journo, journo)\n",
    "\n",
    "        # try to separate out the name pieces + affiliation\n",
    "        try:\n",
    "            journo_affiliation = journo.rsplit(',', 1)[1].strip()\n",
    "            journo_name = journo.split(',')[0].strip()\n",
    "            journo_rest, journo_last = journo_name.rsplit(' ', 1)\n",
    "        except IndexError:\n",
    "            journo_last = journo\n",
    "            journo_rest = None\n",
    "            journo_affiliation = None\n",
    "\n",
    "        # add the data to the tracking list\n",
    "        data.append({\n",
    "            'execution_number': execution_no,\n",
    "            'execution_date': execution_date,\n",
    "            'journalist_name_last': journo_last,\n",
    "            'journalist_name_rest': journo_rest,\n",
    "            'journalist_affiliation': journo_affiliation,\n",
    "            'inmate_number': inmate_no,\n",
    "            'inmate_name_last': inmate_last,\n",
    "            'inmate_name_rest': inmate_rest,\n",
    "            'url': url\n",
    "        })\n",
    "\n",
    "# grab the CSV headers from the first saved record\n",
    "csv_headers = data[0].keys()"
   ]
  },
  {
   "cell_type": "code",
   "execution_count": null,
   "id": "485f963a-58eb-462d-8a6b-4021829c5c54",
   "metadata": {},
   "outputs": [],
   "source": [
    "with open(CSV_FILE, \"w\", newline=\"\", encoding=\"utf-8\") as outfile:\n",
    "    writer = csv.DictWriter(outfile, fieldnames=csv_headers)\n",
    "    writer.writeheader()\n",
    "    writer.writerows(data)\n",
    "\n",
    "print(f\"Wrote {len(data):,} records to file.\")"
   ]
  }
 ],
 "metadata": {
  "kernelspec": {
   "display_name": "Python 3 (ipykernel)",
   "language": "python",
   "name": "python3"
  },
  "language_info": {
   "codemirror_mode": {
    "name": "ipython",
    "version": 3
   },
   "file_extension": ".py",
   "mimetype": "text/x-python",
   "name": "python",
   "nbconvert_exporter": "python",
   "pygments_lexer": "ipython3",
   "version": "3.12.9"
  }
 },
 "nbformat": 4,
 "nbformat_minor": 5
}
